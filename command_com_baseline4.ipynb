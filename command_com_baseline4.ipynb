{
 "cells": [
  {
   "cell_type": "code",
   "execution_count": 10,
   "metadata": {
    "id": "inPfNPdYBiCI",
    "tags": []
   },
   "outputs": [],
   "source": [
    "import warnings\n",
    "warnings.filterwarnings('ignore')"
   ]
  },
  {
   "cell_type": "code",
   "execution_count": 11,
   "metadata": {
    "id": "F4KkNL4KrXUe",
    "tags": []
   },
   "outputs": [],
   "source": [
    "import pandas as pd\n",
    "import numpy as np"
   ]
  },
  {
   "cell_type": "code",
   "execution_count": 12,
   "metadata": {
    "id": "TZ9OTcSVBiCL",
    "tags": []
   },
   "outputs": [],
   "source": [
    "import matplotlib.pyplot as plt\n",
    "import seaborn as sns\n",
    "%matplotlib inline"
   ]
  },
  {
   "cell_type": "code",
   "execution_count": 13,
   "metadata": {
    "id": "WH5xkUa9ra0A",
    "tags": []
   },
   "outputs": [],
   "source": [
    "df = pd.read_parquet('train_dataset_hackaton2023_train.parquet')"
   ]
  },
  {
   "cell_type": "code",
   "execution_count": 14,
   "metadata": {
    "colab": {
     "base_uri": "https://localhost:8080/",
     "height": 206
    },
    "id": "37PwOuAuBiCM",
    "outputId": "78de8654-9387-451f-d543-6a53677a513b",
    "scrolled": true,
    "tags": []
   },
   "outputs": [
    {
     "data": {
      "text/html": [
       "<div>\n",
       "<style scoped>\n",
       "    .dataframe tbody tr th:only-of-type {\n",
       "        vertical-align: middle;\n",
       "    }\n",
       "\n",
       "    .dataframe tbody tr th {\n",
       "        vertical-align: top;\n",
       "    }\n",
       "\n",
       "    .dataframe thead th {\n",
       "        text-align: right;\n",
       "    }\n",
       "</style>\n",
       "<table border=\"1\" class=\"dataframe\">\n",
       "  <thead>\n",
       "    <tr style=\"text-align: right;\">\n",
       "      <th></th>\n",
       "      <th>customer_id</th>\n",
       "      <th>date_diff_post</th>\n",
       "      <th>buy_post</th>\n",
       "      <th>group_name</th>\n",
       "      <th>revenue</th>\n",
       "      <th>startdatetime</th>\n",
       "      <th>dish_name</th>\n",
       "      <th>ownareaall_sqm</th>\n",
       "      <th>format_name</th>\n",
       "    </tr>\n",
       "  </thead>\n",
       "  <tbody>\n",
       "    <tr>\n",
       "      <th>0</th>\n",
       "      <td>29891</td>\n",
       "      <td>9.0</td>\n",
       "      <td>1</td>\n",
       "      <td>train</td>\n",
       "      <td>69.99</td>\n",
       "      <td>2022-12-05 12:03:58</td>\n",
       "      <td>Кинг Фри станд</td>\n",
       "      <td>300.0</td>\n",
       "      <td>Отдельно стоящий без внешней зоны</td>\n",
       "    </tr>\n",
       "    <tr>\n",
       "      <th>1</th>\n",
       "      <td>29891</td>\n",
       "      <td>9.0</td>\n",
       "      <td>1</td>\n",
       "      <td>train</td>\n",
       "      <td>190.00</td>\n",
       "      <td>2022-12-05 12:03:58</td>\n",
       "      <td>Чикен Тар-Тар</td>\n",
       "      <td>300.0</td>\n",
       "      <td>Отдельно стоящий без внешней зоны</td>\n",
       "    </tr>\n",
       "    <tr>\n",
       "      <th>2</th>\n",
       "      <td>29891</td>\n",
       "      <td>9.0</td>\n",
       "      <td>1</td>\n",
       "      <td>train</td>\n",
       "      <td>9.99</td>\n",
       "      <td>2022-12-05 12:03:58</td>\n",
       "      <td>Соус Сырный</td>\n",
       "      <td>300.0</td>\n",
       "      <td>Отдельно стоящий без внешней зоны</td>\n",
       "    </tr>\n",
       "    <tr>\n",
       "      <th>3</th>\n",
       "      <td>29891</td>\n",
       "      <td>9.0</td>\n",
       "      <td>1</td>\n",
       "      <td>train</td>\n",
       "      <td>119.99</td>\n",
       "      <td>2022-12-05 12:03:58</td>\n",
       "      <td>Энергет.нап. Адреналин Раш</td>\n",
       "      <td>300.0</td>\n",
       "      <td>Отдельно стоящий без внешней зоны</td>\n",
       "    </tr>\n",
       "    <tr>\n",
       "      <th>4</th>\n",
       "      <td>29891</td>\n",
       "      <td>9.0</td>\n",
       "      <td>1</td>\n",
       "      <td>train</td>\n",
       "      <td>119.99</td>\n",
       "      <td>2022-12-05 14:28:35</td>\n",
       "      <td>Латте (СТАНД.)</td>\n",
       "      <td>300.0</td>\n",
       "      <td>Отдельно стоящий без внешней зоны</td>\n",
       "    </tr>\n",
       "  </tbody>\n",
       "</table>\n",
       "</div>"
      ],
      "text/plain": [
       "   customer_id  date_diff_post  buy_post group_name  revenue  \\\n",
       "0        29891             9.0         1      train    69.99   \n",
       "1        29891             9.0         1      train   190.00   \n",
       "2        29891             9.0         1      train     9.99   \n",
       "3        29891             9.0         1      train   119.99   \n",
       "4        29891             9.0         1      train   119.99   \n",
       "\n",
       "        startdatetime                   dish_name  ownareaall_sqm  \\\n",
       "0 2022-12-05 12:03:58              Кинг Фри станд           300.0   \n",
       "1 2022-12-05 12:03:58               Чикен Тар-Тар           300.0   \n",
       "2 2022-12-05 12:03:58                 Соус Сырный           300.0   \n",
       "3 2022-12-05 12:03:58  Энергет.нап. Адреналин Раш           300.0   \n",
       "4 2022-12-05 14:28:35              Латте (СТАНД.)           300.0   \n",
       "\n",
       "                         format_name  \n",
       "0  Отдельно стоящий без внешней зоны  \n",
       "1  Отдельно стоящий без внешней зоны  \n",
       "2  Отдельно стоящий без внешней зоны  \n",
       "3  Отдельно стоящий без внешней зоны  \n",
       "4  Отдельно стоящий без внешней зоны  "
      ]
     },
     "execution_count": 14,
     "metadata": {},
     "output_type": "execute_result"
    }
   ],
   "source": [
    "df.head()"
   ]
  },
  {
   "cell_type": "code",
   "execution_count": 15,
   "metadata": {
    "id": "2JZOIVlsBiCN",
    "tags": []
   },
   "outputs": [],
   "source": [
    "df.drop('group_name', axis=1, inplace=True)"
   ]
  },
  {
   "cell_type": "code",
   "execution_count": 16,
   "metadata": {
    "id": "o0nPwpoUBiCO",
    "tags": []
   },
   "outputs": [],
   "source": [
    "def check_missings(df: pd.DataFrame) -> pd.DataFrame:\n",
    "    na = df.isnull().sum()\n",
    "    result = pd.DataFrame({\n",
    "        \"Total (всего пропусков)\": na,\n",
    "        \"Percent (процент пропусков)\": round(100*na/df.shape[0], 3),\n",
    "        \"Types (тип данных)\": df.dtypes\n",
    "    })\n",
    "    result = result[result[\"Total (всего пропусков)\"] != 0]\n",
    "    print(f\"Total NA-values (всего пропусков) = {na.sum()}\")\n",
    "    return result.T"
   ]
  },
  {
   "cell_type": "code",
   "execution_count": 17,
   "metadata": {
    "colab": {
     "base_uri": "https://localhost:8080/",
     "height": 161
    },
    "id": "KwfBvbNABiCO",
    "outputId": "7f2940ab-2d4b-45b0-f615-c57faa5ddc59",
    "tags": []
   },
   "outputs": [
    {
     "name": "stdout",
     "output_type": "stream",
     "text": [
      "Total NA-values (всего пропусков) = 2468517\n"
     ]
    },
    {
     "data": {
      "text/html": [
       "<div>\n",
       "<style scoped>\n",
       "    .dataframe tbody tr th:only-of-type {\n",
       "        vertical-align: middle;\n",
       "    }\n",
       "\n",
       "    .dataframe tbody tr th {\n",
       "        vertical-align: top;\n",
       "    }\n",
       "\n",
       "    .dataframe thead th {\n",
       "        text-align: right;\n",
       "    }\n",
       "</style>\n",
       "<table border=\"1\" class=\"dataframe\">\n",
       "  <thead>\n",
       "    <tr style=\"text-align: right;\">\n",
       "      <th></th>\n",
       "      <th>date_diff_post</th>\n",
       "    </tr>\n",
       "  </thead>\n",
       "  <tbody>\n",
       "    <tr>\n",
       "      <th>Total (всего пропусков)</th>\n",
       "      <td>2468517</td>\n",
       "    </tr>\n",
       "    <tr>\n",
       "      <th>Percent (процент пропусков)</th>\n",
       "      <td>20.352</td>\n",
       "    </tr>\n",
       "    <tr>\n",
       "      <th>Types (тип данных)</th>\n",
       "      <td>float64</td>\n",
       "    </tr>\n",
       "  </tbody>\n",
       "</table>\n",
       "</div>"
      ],
      "text/plain": [
       "                            date_diff_post\n",
       "Total (всего пропусков)            2468517\n",
       "Percent (процент пропусков)         20.352\n",
       "Types (тип данных)                 float64"
      ]
     },
     "execution_count": 17,
     "metadata": {},
     "output_type": "execute_result"
    }
   ],
   "source": [
    "check_missings(df)"
   ]
  },
  {
   "cell_type": "code",
   "execution_count": 18,
   "metadata": {
    "tags": []
   },
   "outputs": [],
   "source": [
    "# Заполняем нулями пустые ячейки с днями. Возможно их просто отбросим\n",
    "#df['date_diff_post'] = df['date_diff_post'].fillna(0)\n",
    "#df['date_diff_post'] = df['date_diff_post'].astype(int)\n",
    "#df['date_diff_post'].value_counts()"
   ]
  },
  {
   "cell_type": "code",
   "execution_count": 19,
   "metadata": {
    "colab": {
     "base_uri": "https://localhost:8080/",
     "height": 539
    },
    "id": "DIN1KYQeBiCO",
    "outputId": "91579e06-74b4-4bd4-f401-991ffe7c7caf",
    "scrolled": true,
    "tags": []
   },
   "outputs": [
    {
     "name": "stdout",
     "output_type": "stream",
     "text": [
      "buy_post\n",
      "1    0.796485\n",
      "0    0.203515\n",
      "Name: proportion, dtype: float64\n"
     ]
    },
    {
     "data": {
      "image/png": "[encoded data removed]",
      "text/plain": [
       "<Figure size 800x500 with 1 Axes>"
      ]
     },
     "metadata": {},
     "output_type": "display_data"
    }
   ],
   "source": [
    "# Смотрю распределение целевой переменной buy_post\n",
    "print(df['buy_post'].value_counts(normalize=True))\n",
    "plt.figure(figsize=(8, 5))\n",
    "sns.countplot(x='buy_post', data=df)\n",
    "plt.title('Target variable distribution')\n",
    "plt.show()"
   ]
  },
  {
   "cell_type": "markdown",
   "metadata": {
    "id": "vMPuchMCBiCP"
   },
   "source": [
    "### Согласно комментарию по заданию: \"0 (ноль если отток), 1 если НЕ отток\""
   ]
  },
  {
   "cell_type": "markdown",
   "metadata": {
    "id": "pijdVE4PBiCP"
   },
   "source": [
    "Нужно сделат апсэмпл 0"
   ]
  },
  {
   "cell_type": "code",
   "execution_count": 20,
   "metadata": {
    "id": "nLKNSd1QBiCQ",
    "tags": []
   },
   "outputs": [],
   "source": [
    "# функция апсэмплинга:\n",
    "\n",
    "from sklearn.utils import resample\n",
    "\n",
    "def dataset_upsampling(df, feature_name):\n",
    "    df_1 = df[df[feature_name] == 1]\n",
    "    df_0  = df[df[feature_name] == 0]\n",
    "    df_0_upsample = resample(df_0, replace=True, n_samples=len(df_1), random_state=42)\n",
    "    df_upsampled = pd.concat([df_1, df_0_upsample])\n",
    "    print(df_upsampled[feature_name].value_counts(normalize=True))\n",
    "    plt.figure(figsize=(8, 5))\n",
    "    sns.countplot(x=feature_name, data=df_upsampled)\n",
    "    plt.title('Target variable distribution after upsampling')\n",
    "    plt.show()\n",
    "    return df_upsampled"
   ]
  },
  {
   "cell_type": "code",
   "execution_count": 21,
   "metadata": {
    "colab": {
     "base_uri": "https://localhost:8080/",
     "height": 556
    },
    "id": "bFiJR1zzBiCQ",
    "outputId": "ec80bdf0-b91b-4251-b128-c30f1b1db38a",
    "tags": []
   },
   "outputs": [
    {
     "name": "stdout",
     "output_type": "stream",
     "text": [
      "buy_post\n",
      "1    0.5\n",
      "0    0.5\n",
      "Name: proportion, dtype: float64\n"
     ]
    },
    {
     "data": {
      "image/png": "[encoded data removed]",
      "text/plain": [
       "<Figure size 800x500 with 1 Axes>"
      ]
     },
     "metadata": {},
     "output_type": "display_data"
    },
    {
     "data": {
      "text/plain": [
       "19321734"
      ]
     },
     "execution_count": 21,
     "metadata": {},
     "output_type": "execute_result"
    }
   ],
   "source": [
    "df_upsampled = dataset_upsampling(df, 'buy_post')\n",
    "\n",
    "len(df_upsampled)"
   ]
  },
  {
   "cell_type": "markdown",
   "metadata": {
    "id": "rUDJ-kN2BiCQ"
   },
   "source": [
    "### Регрессия: прогноз дней до покупки"
   ]
  },
  {
   "cell_type": "markdown",
   "metadata": {
    "id": "yWKlr3zpZ30C"
   },
   "source": [
    "**Features**"
   ]
  },
  {
   "cell_type": "code",
   "execution_count": 22,
   "metadata": {
    "id": "3jS8rL8DZNCn",
    "tags": []
   },
   "outputs": [],
   "source": [
    "# Лояльность\n",
    "counts = df_upsampled['customer_id'].value_counts()\n",
    "df_upsampled[\"loyality\"] = df_upsampled['customer_id'].apply(lambda x: counts.loc[x])"
   ]
  },
  {
   "cell_type": "code",
   "execution_count": 23,
   "metadata": {
    "tags": []
   },
   "outputs": [],
   "source": [
    "# Производные от даты\n",
    "df_upsampled[\"datetime\"] = pd.to_datetime(df_upsampled[\"startdatetime\"], format='mixed')\n",
    "df_upsampled[\"day_of_week\"] = df_upsampled[\"datetime\"].dt.dayofweek\n",
    "df_upsampled[\"hour_of_day\"] = df_upsampled[\"datetime\"].dt.hour\n",
    "df_upsampled[\"month\"] = df_upsampled[\"datetime\"].dt.month\n",
    "df_upsampled[\"quarter\"] = df_upsampled[\"datetime\"].dt.quarter"
   ]
  },
  {
   "cell_type": "code",
   "execution_count": 24,
   "metadata": {
    "tags": []
   },
   "outputs": [
    {
     "data": {
      "text/plain": [
       "520"
      ]
     },
     "execution_count": 24,
     "metadata": {},
     "output_type": "execute_result"
    }
   ],
   "source": [
    "# Укрупняем категорию Блюда\n",
    "# Считаем количество вхождений каждой категории\n",
    "category_counts = df_upsampled[\"dish_name\"].value_counts()\n",
    "# Заменяем редкие категории на Другое.\n",
    "threshold = category_counts.median()  # Медиана как порог отсева\n",
    "for i in range(len(category_counts)):\n",
    "    if category_counts[i] < threshold:\n",
    "        df_upsampled[\"dish_name\"].replace(category_counts.index[i], \"Другое\", inplace=True)\n",
    "len(df_upsampled[\"dish_name\"].value_counts())"
   ]
  },
  {
   "cell_type": "code",
   "execution_count": 25,
   "metadata": {
    "tags": []
   },
   "outputs": [
    {
     "data": {
      "text/plain": [
       "ownareaall_sqm\n",
       "300.00    548029\n",
       "100.00    376885\n",
       "250.00    221559\n",
       "400.00    139893\n",
       "350.00    134676\n",
       "102.00    128099\n",
       "92.00     115664\n",
       "80.00     113083\n",
       "120.00    112662\n",
       "110.00    110560\n",
       "89.00      99877\n",
       "320.00     91003\n",
       "119.31     87543\n",
       "296.00     87013\n",
       "101.00     81386\n",
       "367.40     79799\n",
       "95.00      74846\n",
       "116.00     73944\n",
       "78.23      73393\n",
       "200.00     73234\n",
       "246.20     71802\n",
       "140.00     71691\n",
       "128.50     70885\n",
       "90.00      70594\n",
       "115.00     70372\n",
       "269.90     69608\n",
       "538.70     68341\n",
       "359.90     68314\n",
       "101.80     67720\n",
       "113.00     67515\n",
       "366.60     67306\n",
       "295.00     66196\n",
       "303.00     66021\n",
       "244.50     65643\n",
       "280.00     64998\n",
       "340.10     64225\n",
       "233.20     63581\n",
       "101.60     63092\n",
       "85.00      62143\n",
       "260.00     60761\n",
       "431.10     60401\n",
       "98.00      59887\n",
       "230.00     59381\n",
       "115.46     59192\n",
       "114.50     59041\n",
       "81.00      57896\n",
       "360.00     57829\n",
       "330.80     57349\n",
       "361.00     57321\n",
       "338.90     57095\n",
       "Name: count, dtype: int64"
      ]
     },
     "execution_count": 25,
     "metadata": {},
     "output_type": "execute_result"
    }
   ],
   "source": [
    "# Придумаем что-то с площадью\n",
    "df_upsampled['ownareaall_sqm'].value_counts().head(50)"
   ]
  },
  {
   "cell_type": "code",
   "execution_count": 26,
   "metadata": {
    "tags": []
   },
   "outputs": [
    {
     "data": {
      "text/plain": [
       "count    1.932173e+07\n",
       "mean     2.148473e+02\n",
       "std      1.227573e+02\n",
       "min      0.000000e+00\n",
       "25%      1.046700e+02\n",
       "50%      2.062000e+02\n",
       "75%      3.000000e+02\n",
       "max      9.787000e+02\n",
       "Name: ownareaall_sqm, dtype: float64"
      ]
     },
     "execution_count": 26,
     "metadata": {},
     "output_type": "execute_result"
    }
   ],
   "source": [
    "df_upsampled['ownareaall_sqm'].describe()"
   ]
  },
  {
   "cell_type": "code",
   "execution_count": 27,
   "metadata": {
    "tags": []
   },
   "outputs": [],
   "source": [
    "def fit_area(x):\n",
    "    res = 0\n",
    "    if x<105:\n",
    "        res = 0\n",
    "    elif x<207:\n",
    "        res = 1\n",
    "    elif x<301:\n",
    "        res = 2\n",
    "    else:\n",
    "        res = 3\n",
    "    return res"
   ]
  },
  {
   "cell_type": "code",
   "execution_count": 28,
   "metadata": {
    "tags": []
   },
   "outputs": [
    {
     "data": {
      "text/plain": [
       "ownareaall_sqm\n",
       "2    5312003\n",
       "0    4868150\n",
       "1    4819900\n",
       "3    4321681\n",
       "Name: count, dtype: int64"
      ]
     },
     "execution_count": 28,
     "metadata": {},
     "output_type": "execute_result"
    }
   ],
   "source": [
    "df_upsampled['ownareaall_sqm'] = df_upsampled['ownareaall_sqm'].apply(fit_area)\n",
    "df_upsampled['ownareaall_sqm'].value_counts()"
   ]
  },
  {
   "cell_type": "code",
   "execution_count": 29,
   "metadata": {
    "id": "Ua-VPb6CBiCR",
    "tags": []
   },
   "outputs": [],
   "source": [
    "df_test = df_upsampled[df_upsampled['date_diff_post'].isna()]"
   ]
  },
  {
   "cell_type": "code",
   "execution_count": 30,
   "metadata": {
    "id": "EBOhYv-8BiCR",
    "tags": []
   },
   "outputs": [],
   "source": [
    "df_test.drop('date_diff_post', axis=1, inplace=True)"
   ]
  },
  {
   "cell_type": "code",
   "execution_count": 31,
   "metadata": {
    "colab": {
     "base_uri": "https://localhost:8080/",
     "height": 206
    },
    "id": "zlm6M7tPBiCR",
    "outputId": "66a7097d-00d3-4033-edd8-805526e9fd70",
    "tags": []
   },
   "outputs": [
    {
     "data": {
      "text/html": [
       "<div>\n",
       "<style scoped>\n",
       "    .dataframe tbody tr th:only-of-type {\n",
       "        vertical-align: middle;\n",
       "    }\n",
       "\n",
       "    .dataframe tbody tr th {\n",
       "        vertical-align: top;\n",
       "    }\n",
       "\n",
       "    .dataframe thead th {\n",
       "        text-align: right;\n",
       "    }\n",
       "</style>\n",
       "<table border=\"1\" class=\"dataframe\">\n",
       "  <thead>\n",
       "    <tr style=\"text-align: right;\">\n",
       "      <th></th>\n",
       "      <th>customer_id</th>\n",
       "      <th>buy_post</th>\n",
       "      <th>revenue</th>\n",
       "      <th>startdatetime</th>\n",
       "      <th>dish_name</th>\n",
       "      <th>ownareaall_sqm</th>\n",
       "      <th>format_name</th>\n",
       "      <th>loyality</th>\n",
       "      <th>datetime</th>\n",
       "      <th>day_of_week</th>\n",
       "      <th>hour_of_day</th>\n",
       "      <th>month</th>\n",
       "      <th>quarter</th>\n",
       "    </tr>\n",
       "  </thead>\n",
       "  <tbody>\n",
       "    <tr>\n",
       "      <th>22486412</th>\n",
       "      <td>37024094</td>\n",
       "      <td>0</td>\n",
       "      <td>74.99</td>\n",
       "      <td>2023-04-05 19:18:30</td>\n",
       "      <td>Чизбургер</td>\n",
       "      <td>1</td>\n",
       "      <td>Отдельно стоящий с внешней зоной</td>\n",
       "      <td>65</td>\n",
       "      <td>2023-04-05 19:18:30</td>\n",
       "      <td>2</td>\n",
       "      <td>19</td>\n",
       "      <td>4</td>\n",
       "      <td>2</td>\n",
       "    </tr>\n",
       "    <tr>\n",
       "      <th>22567273</th>\n",
       "      <td>37259054</td>\n",
       "      <td>0</td>\n",
       "      <td>159.98</td>\n",
       "      <td>2022-12-06 20:17:26</td>\n",
       "      <td>Ord.2 сырных соуса</td>\n",
       "      <td>2</td>\n",
       "      <td>Отдельно стоящий без внешней зоны</td>\n",
       "      <td>165</td>\n",
       "      <td>2022-12-06 20:17:26</td>\n",
       "      <td>1</td>\n",
       "      <td>20</td>\n",
       "      <td>12</td>\n",
       "      <td>4</td>\n",
       "    </tr>\n",
       "    <tr>\n",
       "      <th>23479889</th>\n",
       "      <td>40744014</td>\n",
       "      <td>0</td>\n",
       "      <td>99.65</td>\n",
       "      <td>2023-03-04 14:04:04</td>\n",
       "      <td>Эвервесс Лемон-Лайм б/л  мал 0,4</td>\n",
       "      <td>3</td>\n",
       "      <td>Отдельно стоящий без внешней зоны</td>\n",
       "      <td>71</td>\n",
       "      <td>2023-03-04 14:04:04</td>\n",
       "      <td>5</td>\n",
       "      <td>14</td>\n",
       "      <td>3</td>\n",
       "      <td>1</td>\n",
       "    </tr>\n",
       "    <tr>\n",
       "      <th>18087318</th>\n",
       "      <td>27888583</td>\n",
       "      <td>0</td>\n",
       "      <td>85.02</td>\n",
       "      <td>2023-02-23 17:48:29</td>\n",
       "      <td>Up Кинг Наггетс Стандартный</td>\n",
       "      <td>0</td>\n",
       "      <td>Фудкорт без туалета</td>\n",
       "      <td>174</td>\n",
       "      <td>2023-02-23 17:48:29</td>\n",
       "      <td>3</td>\n",
       "      <td>17</td>\n",
       "      <td>2</td>\n",
       "      <td>1</td>\n",
       "    </tr>\n",
       "    <tr>\n",
       "      <th>1379413</th>\n",
       "      <td>1569718</td>\n",
       "      <td>0</td>\n",
       "      <td>239.99</td>\n",
       "      <td>2023-01-02 15:28:44</td>\n",
       "      <td>Другое</td>\n",
       "      <td>0</td>\n",
       "      <td>Фудкорт без туалета</td>\n",
       "      <td>58</td>\n",
       "      <td>2023-01-02 15:28:44</td>\n",
       "      <td>0</td>\n",
       "      <td>15</td>\n",
       "      <td>1</td>\n",
       "      <td>1</td>\n",
       "    </tr>\n",
       "  </tbody>\n",
       "</table>\n",
       "</div>"
      ],
      "text/plain": [
       "          customer_id  buy_post  revenue       startdatetime  \\\n",
       "22486412     37024094         0    74.99 2023-04-05 19:18:30   \n",
       "22567273     37259054         0   159.98 2022-12-06 20:17:26   \n",
       "23479889     40744014         0    99.65 2023-03-04 14:04:04   \n",
       "18087318     27888583         0    85.02 2023-02-23 17:48:29   \n",
       "1379413       1569718         0   239.99 2023-01-02 15:28:44   \n",
       "\n",
       "                                 dish_name  ownareaall_sqm  \\\n",
       "22486412                         Чизбургер               1   \n",
       "22567273                Ord.2 сырных соуса               2   \n",
       "23479889  Эвервесс Лемон-Лайм б/л  мал 0,4               3   \n",
       "18087318       Up Кинг Наггетс Стандартный               0   \n",
       "1379413                             Другое               0   \n",
       "\n",
       "                                format_name  loyality            datetime  \\\n",
       "22486412   Отдельно стоящий с внешней зоной        65 2023-04-05 19:18:30   \n",
       "22567273  Отдельно стоящий без внешней зоны       165 2022-12-06 20:17:26   \n",
       "23479889  Отдельно стоящий без внешней зоны        71 2023-03-04 14:04:04   \n",
       "18087318                Фудкорт без туалета       174 2023-02-23 17:48:29   \n",
       "1379413                 Фудкорт без туалета        58 2023-01-02 15:28:44   \n",
       "\n",
       "          day_of_week  hour_of_day  month  quarter  \n",
       "22486412            2           19      4        2  \n",
       "22567273            1           20     12        4  \n",
       "23479889            5           14      3        1  \n",
       "18087318            3           17      2        1  \n",
       "1379413             0           15      1        1  "
      ]
     },
     "execution_count": 31,
     "metadata": {},
     "output_type": "execute_result"
    }
   ],
   "source": [
    "df_test.head()"
   ]
  },
  {
   "cell_type": "code",
   "execution_count": 32,
   "metadata": {
    "id": "sXT2bg1xBiCR",
    "tags": []
   },
   "outputs": [],
   "source": [
    "df = df_upsampled[~df_upsampled['date_diff_post'].isna()]"
   ]
  },
  {
   "cell_type": "code",
   "execution_count": 33,
   "metadata": {
    "colab": {
     "base_uri": "https://localhost:8080/"
    },
    "id": "gDXM434aBiCR",
    "outputId": "2f35b0b9-9d0e-4bf4-f5f6-ded04c04c703",
    "tags": []
   },
   "outputs": [
    {
     "data": {
      "text/plain": [
       "True"
      ]
     },
     "execution_count": 33,
     "metadata": {},
     "output_type": "execute_result"
    }
   ],
   "source": [
    "len(df) + len(df_test) == len(df_upsampled)"
   ]
  },
  {
   "cell_type": "code",
   "execution_count": 34,
   "metadata": {
    "id": "iZ-AHwIeBiCS",
    "tags": []
   },
   "outputs": [],
   "source": [
    "from sklearn.model_selection import train_test_split"
   ]
  },
  {
   "cell_type": "code",
   "execution_count": 35,
   "metadata": {
    "id": "APZaHsb2BiCS",
    "tags": []
   },
   "outputs": [],
   "source": [
    "train, test = train_test_split(df, train_size=0.8, random_state=42)"
   ]
  },
  {
   "cell_type": "code",
   "execution_count": 36,
   "metadata": {
    "id": "TpqfxnQeBiCS",
    "tags": []
   },
   "outputs": [],
   "source": [
    "val, test = train_test_split(test, train_size=0.5, random_state=42)"
   ]
  },
  {
   "cell_type": "code",
   "execution_count": 37,
   "metadata": {
    "colab": {
     "base_uri": "https://localhost:8080/"
    },
    "id": "mZ9EiDB_BiCS",
    "outputId": "76072b6f-76fc-47fe-d31c-ad62349c3b61",
    "tags": []
   },
   "outputs": [
    {
     "data": {
      "text/plain": [
       "Index(['customer_id', 'date_diff_post', 'buy_post', 'revenue', 'startdatetime',\n",
       "       'dish_name', 'ownareaall_sqm', 'format_name', 'loyality', 'datetime',\n",
       "       'day_of_week', 'hour_of_day', 'month', 'quarter'],\n",
       "      dtype='object')"
      ]
     },
     "execution_count": 37,
     "metadata": {},
     "output_type": "execute_result"
    }
   ],
   "source": [
    "train.columns"
   ]
  },
  {
   "cell_type": "code",
   "execution_count": 38,
   "metadata": {
    "id": "-fRFYaD0BiCS",
    "tags": []
   },
   "outputs": [],
   "source": [
    "X = ['revenue', 'dish_name', 'ownareaall_sqm', 'format_name', 'loyality', 'day_of_week', 'hour_of_day', 'month', 'quarter'] # без целевой переменной date_diff_post\n",
    "y = ['date_diff_post'] # целевая переменная\n",
    "cat_features = ['dish_name', 'format_name', 'day_of_week', 'hour_of_day', 'month', 'quarter'] # категориальные признаки"
   ]
  },
  {
   "cell_type": "code",
   "execution_count": 43,
   "metadata": {
    "id": "GcE5AJovEFhT",
    "tags": []
   },
   "outputs": [],
   "source": [
    "parameters = {'cat_features': cat_features,\n",
    "             'eval_metric': 'RMSE', # требуемая по заданию метрика RMSE\n",
    "             'task_type': 'GPU',\n",
    "             'learning_rate': 0.1,\n",
    "             'iterations': 1000, # не хватило 1000 итераций\n",
    "             'random_seed': 42,\n",
    "             'verbose': 100}"
   ]
  },
  {
   "cell_type": "code",
   "execution_count": 44,
   "metadata": {
    "id": "76Jjojc6EFj0",
    "tags": []
   },
   "outputs": [],
   "source": [
    "from catboost import CatBoostRegressor"
   ]
  },
  {
   "cell_type": "code",
   "execution_count": 45,
   "metadata": {
    "id": "NG-0Lix7EFmP",
    "tags": []
   },
   "outputs": [],
   "source": [
    "model_regr = CatBoostRegressor(**parameters)"
   ]
  },
  {
   "cell_type": "code",
   "execution_count": 46,
   "metadata": {
    "colab": {
     "base_uri": "https://localhost:8080/"
    },
    "id": "lnkyXdu2EFov",
    "outputId": "c41159fb-1201-49c4-ce67-c4fdfd3e0127",
    "tags": []
   },
   "outputs": [
    {
     "name": "stdout",
     "output_type": "stream",
     "text": [
      "0:\tlearn: 15.0435215\ttest: 15.0480972\tbest: 15.0480972 (0)\ttotal: 624ms\tremaining: 10m 23s\n",
      "100:\tlearn: 13.8604401\ttest: 13.8667486\tbest: 13.8667486 (100)\ttotal: 41.5s\tremaining: 6m 9s\n",
      "200:\tlearn: 13.8409713\ttest: 13.8470117\tbest: 13.8470117 (200)\ttotal: 1m 20s\tremaining: 5m 21s\n",
      "300:\tlearn: 13.8278369\ttest: 13.8338059\tbest: 13.8338059 (300)\ttotal: 1m 59s\tremaining: 4m 37s\n",
      "400:\tlearn: 13.8186900\ttest: 13.8245856\tbest: 13.8245856 (400)\ttotal: 2m 39s\tremaining: 3m 57s\n",
      "500:\tlearn: 13.8109593\ttest: 13.8170261\tbest: 13.8170261 (500)\ttotal: 3m 18s\tremaining: 3m 17s\n",
      "600:\tlearn: 13.8021444\ttest: 13.8083050\tbest: 13.8083050 (600)\ttotal: 3m 59s\tremaining: 2m 39s\n",
      "700:\tlearn: 13.7950744\ttest: 13.8016750\tbest: 13.8016750 (700)\ttotal: 4m 39s\tremaining: 1m 59s\n",
      "800:\tlearn: 13.7887166\ttest: 13.7952836\tbest: 13.7952836 (800)\ttotal: 5m 18s\tremaining: 1m 19s\n",
      "900:\tlearn: 13.7827134\ttest: 13.7893199\tbest: 13.7893199 (900)\ttotal: 5m 58s\tremaining: 39.4s\n",
      "999:\tlearn: 13.7768170\ttest: 13.7837068\tbest: 13.7837068 (999)\ttotal: 6m 36s\tremaining: 0us\n",
      "bestTest = 13.78370684\n",
      "bestIteration = 999\n"
     ]
    },
    {
     "data": {
      "text/plain": [
       "<catboost.core.CatBoostRegressor at 0x16422bd2d50>"
      ]
     },
     "execution_count": 46,
     "metadata": {},
     "output_type": "execute_result"
    }
   ],
   "source": [
    "model_regr.fit(train[X], train[y], eval_set=(val[X], val[y]))"
   ]
  },
  {
   "cell_type": "code",
   "execution_count": 47,
   "metadata": {
    "id": "5nWSwq2rEFwI",
    "tags": []
   },
   "outputs": [],
   "source": [
    "test['pred_date_diff_post'] = model_regr.predict(test[X])  # Прогноз количества дней для метрики"
   ]
  },
  {
   "cell_type": "code",
   "execution_count": 48,
   "metadata": {
    "id": "qnnA0KYnEF04",
    "tags": []
   },
   "outputs": [],
   "source": [
    "from sklearn.metrics import mean_squared_error"
   ]
  },
  {
   "cell_type": "code",
   "execution_count": 49,
   "metadata": {
    "id": "gk_AVT4eEF3Z",
    "tags": []
   },
   "outputs": [],
   "source": [
    "mse = mean_squared_error(test['date_diff_post'], test['pred_date_diff_post'])"
   ]
  },
  {
   "cell_type": "code",
   "execution_count": 50,
   "metadata": {
    "colab": {
     "base_uri": "https://localhost:8080/"
    },
    "id": "ETriWHlvEF7-",
    "outputId": "4dd23872-e0ff-48ba-88ea-a5c08781701e",
    "tags": []
   },
   "outputs": [
    {
     "data": {
      "text/plain": [
       "13.781180331516525"
      ]
     },
     "execution_count": 50,
     "metadata": {},
     "output_type": "execute_result"
    }
   ],
   "source": [
    "rmse = np.sqrt(mse)\n",
    "rmse"
   ]
  },
  {
   "cell_type": "code",
   "execution_count": 51,
   "metadata": {
    "id": "QI5YM1JpI771",
    "tags": []
   },
   "outputs": [],
   "source": [
    "df_test['date_diff_post'] = model_regr.predict(df_test[X])  # Прогноз количества дней"
   ]
  },
  {
   "cell_type": "code",
   "execution_count": 52,
   "metadata": {
    "id": "on-DBcdCI8K7",
    "tags": []
   },
   "outputs": [],
   "source": [
    "df_ready = pd.concat([df, df_test])  # Объединяем две части датасета, где мы дополнили данные прогнозами"
   ]
  },
  {
   "cell_type": "code",
   "execution_count": 53,
   "metadata": {
    "colab": {
     "base_uri": "https://localhost:8080/",
     "height": 206
    },
    "id": "OZ0Kh84WneeL",
    "outputId": "ea3d78d8-5ad5-47ee-9a44-1895299a6561",
    "tags": []
   },
   "outputs": [
    {
     "data": {
      "text/html": [
       "<div>\n",
       "<style scoped>\n",
       "    .dataframe tbody tr th:only-of-type {\n",
       "        vertical-align: middle;\n",
       "    }\n",
       "\n",
       "    .dataframe tbody tr th {\n",
       "        vertical-align: top;\n",
       "    }\n",
       "\n",
       "    .dataframe thead th {\n",
       "        text-align: right;\n",
       "    }\n",
       "</style>\n",
       "<table border=\"1\" class=\"dataframe\">\n",
       "  <thead>\n",
       "    <tr style=\"text-align: right;\">\n",
       "      <th></th>\n",
       "      <th>customer_id</th>\n",
       "      <th>date_diff_post</th>\n",
       "      <th>buy_post</th>\n",
       "      <th>revenue</th>\n",
       "      <th>startdatetime</th>\n",
       "      <th>dish_name</th>\n",
       "      <th>ownareaall_sqm</th>\n",
       "      <th>format_name</th>\n",
       "      <th>loyality</th>\n",
       "      <th>datetime</th>\n",
       "      <th>day_of_week</th>\n",
       "      <th>hour_of_day</th>\n",
       "      <th>month</th>\n",
       "      <th>quarter</th>\n",
       "    </tr>\n",
       "  </thead>\n",
       "  <tbody>\n",
       "    <tr>\n",
       "      <th>0</th>\n",
       "      <td>29891</td>\n",
       "      <td>9.0</td>\n",
       "      <td>1</td>\n",
       "      <td>69.99</td>\n",
       "      <td>2022-12-05 12:03:58</td>\n",
       "      <td>Кинг Фри станд</td>\n",
       "      <td>2</td>\n",
       "      <td>Отдельно стоящий без внешней зоны</td>\n",
       "      <td>34</td>\n",
       "      <td>2022-12-05 12:03:58</td>\n",
       "      <td>0</td>\n",
       "      <td>12</td>\n",
       "      <td>12</td>\n",
       "      <td>4</td>\n",
       "    </tr>\n",
       "    <tr>\n",
       "      <th>1</th>\n",
       "      <td>29891</td>\n",
       "      <td>9.0</td>\n",
       "      <td>1</td>\n",
       "      <td>190.00</td>\n",
       "      <td>2022-12-05 12:03:58</td>\n",
       "      <td>Чикен Тар-Тар</td>\n",
       "      <td>2</td>\n",
       "      <td>Отдельно стоящий без внешней зоны</td>\n",
       "      <td>34</td>\n",
       "      <td>2022-12-05 12:03:58</td>\n",
       "      <td>0</td>\n",
       "      <td>12</td>\n",
       "      <td>12</td>\n",
       "      <td>4</td>\n",
       "    </tr>\n",
       "    <tr>\n",
       "      <th>2</th>\n",
       "      <td>29891</td>\n",
       "      <td>9.0</td>\n",
       "      <td>1</td>\n",
       "      <td>9.99</td>\n",
       "      <td>2022-12-05 12:03:58</td>\n",
       "      <td>Соус Сырный</td>\n",
       "      <td>2</td>\n",
       "      <td>Отдельно стоящий без внешней зоны</td>\n",
       "      <td>34</td>\n",
       "      <td>2022-12-05 12:03:58</td>\n",
       "      <td>0</td>\n",
       "      <td>12</td>\n",
       "      <td>12</td>\n",
       "      <td>4</td>\n",
       "    </tr>\n",
       "    <tr>\n",
       "      <th>3</th>\n",
       "      <td>29891</td>\n",
       "      <td>9.0</td>\n",
       "      <td>1</td>\n",
       "      <td>119.99</td>\n",
       "      <td>2022-12-05 12:03:58</td>\n",
       "      <td>Энергет.нап. Адреналин Раш</td>\n",
       "      <td>2</td>\n",
       "      <td>Отдельно стоящий без внешней зоны</td>\n",
       "      <td>34</td>\n",
       "      <td>2022-12-05 12:03:58</td>\n",
       "      <td>0</td>\n",
       "      <td>12</td>\n",
       "      <td>12</td>\n",
       "      <td>4</td>\n",
       "    </tr>\n",
       "    <tr>\n",
       "      <th>4</th>\n",
       "      <td>29891</td>\n",
       "      <td>9.0</td>\n",
       "      <td>1</td>\n",
       "      <td>119.99</td>\n",
       "      <td>2022-12-05 14:28:35</td>\n",
       "      <td>Латте (СТАНД.)</td>\n",
       "      <td>2</td>\n",
       "      <td>Отдельно стоящий без внешней зоны</td>\n",
       "      <td>34</td>\n",
       "      <td>2022-12-05 14:28:35</td>\n",
       "      <td>0</td>\n",
       "      <td>14</td>\n",
       "      <td>12</td>\n",
       "      <td>4</td>\n",
       "    </tr>\n",
       "  </tbody>\n",
       "</table>\n",
       "</div>"
      ],
      "text/plain": [
       "   customer_id  date_diff_post  buy_post  revenue       startdatetime  \\\n",
       "0        29891             9.0         1    69.99 2022-12-05 12:03:58   \n",
       "1        29891             9.0         1   190.00 2022-12-05 12:03:58   \n",
       "2        29891             9.0         1     9.99 2022-12-05 12:03:58   \n",
       "3        29891             9.0         1   119.99 2022-12-05 12:03:58   \n",
       "4        29891             9.0         1   119.99 2022-12-05 14:28:35   \n",
       "\n",
       "                    dish_name  ownareaall_sqm  \\\n",
       "0              Кинг Фри станд               2   \n",
       "1               Чикен Тар-Тар               2   \n",
       "2                 Соус Сырный               2   \n",
       "3  Энергет.нап. Адреналин Раш               2   \n",
       "4              Латте (СТАНД.)               2   \n",
       "\n",
       "                         format_name  loyality            datetime  \\\n",
       "0  Отдельно стоящий без внешней зоны        34 2022-12-05 12:03:58   \n",
       "1  Отдельно стоящий без внешней зоны        34 2022-12-05 12:03:58   \n",
       "2  Отдельно стоящий без внешней зоны        34 2022-12-05 12:03:58   \n",
       "3  Отдельно стоящий без внешней зоны        34 2022-12-05 12:03:58   \n",
       "4  Отдельно стоящий без внешней зоны        34 2022-12-05 14:28:35   \n",
       "\n",
       "   day_of_week  hour_of_day  month  quarter  \n",
       "0            0           12     12        4  \n",
       "1            0           12     12        4  \n",
       "2            0           12     12        4  \n",
       "3            0           12     12        4  \n",
       "4            0           14     12        4  "
      ]
     },
     "execution_count": 53,
     "metadata": {},
     "output_type": "execute_result"
    }
   ],
   "source": [
    "df_ready.head()"
   ]
  },
  {
   "cell_type": "code",
   "execution_count": 54,
   "metadata": {
    "colab": {
     "base_uri": "https://localhost:8080/"
    },
    "id": "5ehfX7ZXMLiO",
    "outputId": "576095d6-f6de-4549-ea93-4a7e9dbe1cdc",
    "tags": []
   },
   "outputs": [
    {
     "data": {
      "text/plain": [
       "True"
      ]
     },
     "execution_count": 54,
     "metadata": {},
     "output_type": "execute_result"
    }
   ],
   "source": [
    "len(df_ready) == len(df_upsampled)"
   ]
  },
  {
   "cell_type": "code",
   "execution_count": 55,
   "metadata": {
    "colab": {
     "base_uri": "https://localhost:8080/",
     "height": 143
    },
    "id": "YQuzdqWcK1zu",
    "outputId": "f736e589-46b3-41dc-8f1f-a47fc8856ac9",
    "tags": []
   },
   "outputs": [
    {
     "name": "stdout",
     "output_type": "stream",
     "text": [
      "Total NA-values (всего пропусков) = 0\n"
     ]
    },
    {
     "data": {
      "text/html": [
       "<div>\n",
       "<style scoped>\n",
       "    .dataframe tbody tr th:only-of-type {\n",
       "        vertical-align: middle;\n",
       "    }\n",
       "\n",
       "    .dataframe tbody tr th {\n",
       "        vertical-align: top;\n",
       "    }\n",
       "\n",
       "    .dataframe thead th {\n",
       "        text-align: right;\n",
       "    }\n",
       "</style>\n",
       "<table border=\"1\" class=\"dataframe\">\n",
       "  <thead>\n",
       "    <tr style=\"text-align: right;\">\n",
       "      <th></th>\n",
       "    </tr>\n",
       "  </thead>\n",
       "  <tbody>\n",
       "    <tr>\n",
       "      <th>Total (всего пропусков)</th>\n",
       "    </tr>\n",
       "    <tr>\n",
       "      <th>Percent (процент пропусков)</th>\n",
       "    </tr>\n",
       "    <tr>\n",
       "      <th>Types (тип данных)</th>\n",
       "    </tr>\n",
       "  </tbody>\n",
       "</table>\n",
       "</div>"
      ],
      "text/plain": [
       "Empty DataFrame\n",
       "Columns: []\n",
       "Index: [Total (всего пропусков), Percent (процент пропусков), Types (тип данных)]"
      ]
     },
     "execution_count": 55,
     "metadata": {},
     "output_type": "execute_result"
    }
   ],
   "source": [
    "check_missings(df_ready)"
   ]
  },
  {
   "cell_type": "code",
   "execution_count": 56,
   "metadata": {
    "colab": {
     "base_uri": "https://localhost:8080/"
    },
    "id": "rFTA58YsaJlW",
    "outputId": "315e4014-402b-4286-f0e3-8b8385daea99",
    "tags": []
   },
   "outputs": [
    {
     "data": {
      "text/html": [
       "<div>\n",
       "<style scoped>\n",
       "    .dataframe tbody tr th:only-of-type {\n",
       "        vertical-align: middle;\n",
       "    }\n",
       "\n",
       "    .dataframe tbody tr th {\n",
       "        vertical-align: top;\n",
       "    }\n",
       "\n",
       "    .dataframe thead th {\n",
       "        text-align: right;\n",
       "    }\n",
       "</style>\n",
       "<table border=\"1\" class=\"dataframe\">\n",
       "  <thead>\n",
       "    <tr style=\"text-align: right;\">\n",
       "      <th></th>\n",
       "      <th>customer_id</th>\n",
       "      <th>date_diff_post</th>\n",
       "      <th>buy_post</th>\n",
       "      <th>revenue</th>\n",
       "      <th>startdatetime</th>\n",
       "      <th>dish_name</th>\n",
       "      <th>ownareaall_sqm</th>\n",
       "      <th>format_name</th>\n",
       "      <th>loyality</th>\n",
       "      <th>datetime</th>\n",
       "      <th>day_of_week</th>\n",
       "      <th>hour_of_day</th>\n",
       "      <th>month</th>\n",
       "      <th>quarter</th>\n",
       "    </tr>\n",
       "  </thead>\n",
       "  <tbody>\n",
       "    <tr>\n",
       "      <th>0</th>\n",
       "      <td>29891</td>\n",
       "      <td>9</td>\n",
       "      <td>1</td>\n",
       "      <td>69.99</td>\n",
       "      <td>2022-12-05 12:03:58</td>\n",
       "      <td>Кинг Фри станд</td>\n",
       "      <td>2</td>\n",
       "      <td>Отдельно стоящий без внешней зоны</td>\n",
       "      <td>34</td>\n",
       "      <td>2022-12-05 12:03:58</td>\n",
       "      <td>0</td>\n",
       "      <td>12</td>\n",
       "      <td>12</td>\n",
       "      <td>4</td>\n",
       "    </tr>\n",
       "    <tr>\n",
       "      <th>1</th>\n",
       "      <td>29891</td>\n",
       "      <td>9</td>\n",
       "      <td>1</td>\n",
       "      <td>190.00</td>\n",
       "      <td>2022-12-05 12:03:58</td>\n",
       "      <td>Чикен Тар-Тар</td>\n",
       "      <td>2</td>\n",
       "      <td>Отдельно стоящий без внешней зоны</td>\n",
       "      <td>34</td>\n",
       "      <td>2022-12-05 12:03:58</td>\n",
       "      <td>0</td>\n",
       "      <td>12</td>\n",
       "      <td>12</td>\n",
       "      <td>4</td>\n",
       "    </tr>\n",
       "    <tr>\n",
       "      <th>2</th>\n",
       "      <td>29891</td>\n",
       "      <td>9</td>\n",
       "      <td>1</td>\n",
       "      <td>9.99</td>\n",
       "      <td>2022-12-05 12:03:58</td>\n",
       "      <td>Соус Сырный</td>\n",
       "      <td>2</td>\n",
       "      <td>Отдельно стоящий без внешней зоны</td>\n",
       "      <td>34</td>\n",
       "      <td>2022-12-05 12:03:58</td>\n",
       "      <td>0</td>\n",
       "      <td>12</td>\n",
       "      <td>12</td>\n",
       "      <td>4</td>\n",
       "    </tr>\n",
       "    <tr>\n",
       "      <th>3</th>\n",
       "      <td>29891</td>\n",
       "      <td>9</td>\n",
       "      <td>1</td>\n",
       "      <td>119.99</td>\n",
       "      <td>2022-12-05 12:03:58</td>\n",
       "      <td>Энергет.нап. Адреналин Раш</td>\n",
       "      <td>2</td>\n",
       "      <td>Отдельно стоящий без внешней зоны</td>\n",
       "      <td>34</td>\n",
       "      <td>2022-12-05 12:03:58</td>\n",
       "      <td>0</td>\n",
       "      <td>12</td>\n",
       "      <td>12</td>\n",
       "      <td>4</td>\n",
       "    </tr>\n",
       "    <tr>\n",
       "      <th>4</th>\n",
       "      <td>29891</td>\n",
       "      <td>9</td>\n",
       "      <td>1</td>\n",
       "      <td>119.99</td>\n",
       "      <td>2022-12-05 14:28:35</td>\n",
       "      <td>Латте (СТАНД.)</td>\n",
       "      <td>2</td>\n",
       "      <td>Отдельно стоящий без внешней зоны</td>\n",
       "      <td>34</td>\n",
       "      <td>2022-12-05 14:28:35</td>\n",
       "      <td>0</td>\n",
       "      <td>14</td>\n",
       "      <td>12</td>\n",
       "      <td>4</td>\n",
       "    </tr>\n",
       "    <tr>\n",
       "      <th>...</th>\n",
       "      <td>...</td>\n",
       "      <td>...</td>\n",
       "      <td>...</td>\n",
       "      <td>...</td>\n",
       "      <td>...</td>\n",
       "      <td>...</td>\n",
       "      <td>...</td>\n",
       "      <td>...</td>\n",
       "      <td>...</td>\n",
       "      <td>...</td>\n",
       "      <td>...</td>\n",
       "      <td>...</td>\n",
       "      <td>...</td>\n",
       "      <td>...</td>\n",
       "    </tr>\n",
       "    <tr>\n",
       "      <th>19569829</th>\n",
       "      <td>29492499</td>\n",
       "      <td>23</td>\n",
       "      <td>0</td>\n",
       "      <td>69.99</td>\n",
       "      <td>2023-06-28 17:43:17</td>\n",
       "      <td>Гамбургер</td>\n",
       "      <td>0</td>\n",
       "      <td>Фудкорт без туалета</td>\n",
       "      <td>419</td>\n",
       "      <td>2023-06-28 17:43:17</td>\n",
       "      <td>2</td>\n",
       "      <td>17</td>\n",
       "      <td>6</td>\n",
       "      <td>2</td>\n",
       "    </tr>\n",
       "    <tr>\n",
       "      <th>13744681</th>\n",
       "      <td>22797677</td>\n",
       "      <td>11</td>\n",
       "      <td>0</td>\n",
       "      <td>49.99</td>\n",
       "      <td>2022-12-11 11:55:19</td>\n",
       "      <td>Маффин</td>\n",
       "      <td>1</td>\n",
       "      <td>Фудкорт с туалетом</td>\n",
       "      <td>727</td>\n",
       "      <td>2022-12-11 11:55:19</td>\n",
       "      <td>6</td>\n",
       "      <td>11</td>\n",
       "      <td>12</td>\n",
       "      <td>4</td>\n",
       "    </tr>\n",
       "    <tr>\n",
       "      <th>1238516</th>\n",
       "      <td>1391233</td>\n",
       "      <td>14</td>\n",
       "      <td>0</td>\n",
       "      <td>200.00</td>\n",
       "      <td>2023-06-23 12:10:18</td>\n",
       "      <td>Воппер</td>\n",
       "      <td>1</td>\n",
       "      <td>Фудкорт без туалета</td>\n",
       "      <td>69</td>\n",
       "      <td>2023-06-23 12:10:18</td>\n",
       "      <td>4</td>\n",
       "      <td>12</td>\n",
       "      <td>6</td>\n",
       "      <td>2</td>\n",
       "    </tr>\n",
       "    <tr>\n",
       "      <th>17040206</th>\n",
       "      <td>26411145</td>\n",
       "      <td>15</td>\n",
       "      <td>0</td>\n",
       "      <td>70.03</td>\n",
       "      <td>2023-05-27 15:03:29</td>\n",
       "      <td>Наггетсы (3 шт.)</td>\n",
       "      <td>2</td>\n",
       "      <td>Отдельно стоящий без внешней зоны</td>\n",
       "      <td>75</td>\n",
       "      <td>2023-05-27 15:03:29</td>\n",
       "      <td>5</td>\n",
       "      <td>15</td>\n",
       "      <td>5</td>\n",
       "      <td>2</td>\n",
       "    </tr>\n",
       "    <tr>\n",
       "      <th>12105039</th>\n",
       "      <td>21251694</td>\n",
       "      <td>14</td>\n",
       "      <td>0</td>\n",
       "      <td>399.99</td>\n",
       "      <td>2023-07-14 13:13:03</td>\n",
       "      <td>Ангус Пармеджано</td>\n",
       "      <td>3</td>\n",
       "      <td>Отдельно стоящий</td>\n",
       "      <td>61</td>\n",
       "      <td>2023-07-14 13:13:03</td>\n",
       "      <td>4</td>\n",
       "      <td>13</td>\n",
       "      <td>7</td>\n",
       "      <td>3</td>\n",
       "    </tr>\n",
       "  </tbody>\n",
       "</table>\n",
       "<p>19321734 rows × 14 columns</p>\n",
       "</div>"
      ],
      "text/plain": [
       "          customer_id  date_diff_post  buy_post  revenue       startdatetime  \\\n",
       "0               29891               9         1    69.99 2022-12-05 12:03:58   \n",
       "1               29891               9         1   190.00 2022-12-05 12:03:58   \n",
       "2               29891               9         1     9.99 2022-12-05 12:03:58   \n",
       "3               29891               9         1   119.99 2022-12-05 12:03:58   \n",
       "4               29891               9         1   119.99 2022-12-05 14:28:35   \n",
       "...               ...             ...       ...      ...                 ...   \n",
       "19569829     29492499              23         0    69.99 2023-06-28 17:43:17   \n",
       "13744681     22797677              11         0    49.99 2022-12-11 11:55:19   \n",
       "1238516       1391233              14         0   200.00 2023-06-23 12:10:18   \n",
       "17040206     26411145              15         0    70.03 2023-05-27 15:03:29   \n",
       "12105039     21251694              14         0   399.99 2023-07-14 13:13:03   \n",
       "\n",
       "                           dish_name  ownareaall_sqm  \\\n",
       "0                     Кинг Фри станд               2   \n",
       "1                      Чикен Тар-Тар               2   \n",
       "2                        Соус Сырный               2   \n",
       "3         Энергет.нап. Адреналин Раш               2   \n",
       "4                     Латте (СТАНД.)               2   \n",
       "...                              ...             ...   \n",
       "19569829                   Гамбургер               0   \n",
       "13744681                      Маффин               1   \n",
       "1238516                       Воппер               1   \n",
       "17040206            Наггетсы (3 шт.)               2   \n",
       "12105039            Ангус Пармеджано               3   \n",
       "\n",
       "                                format_name  loyality            datetime  \\\n",
       "0         Отдельно стоящий без внешней зоны        34 2022-12-05 12:03:58   \n",
       "1         Отдельно стоящий без внешней зоны        34 2022-12-05 12:03:58   \n",
       "2         Отдельно стоящий без внешней зоны        34 2022-12-05 12:03:58   \n",
       "3         Отдельно стоящий без внешней зоны        34 2022-12-05 12:03:58   \n",
       "4         Отдельно стоящий без внешней зоны        34 2022-12-05 14:28:35   \n",
       "...                                     ...       ...                 ...   \n",
       "19569829                Фудкорт без туалета       419 2023-06-28 17:43:17   \n",
       "13744681                 Фудкорт с туалетом       727 2022-12-11 11:55:19   \n",
       "1238516                 Фудкорт без туалета        69 2023-06-23 12:10:18   \n",
       "17040206  Отдельно стоящий без внешней зоны        75 2023-05-27 15:03:29   \n",
       "12105039                   Отдельно стоящий        61 2023-07-14 13:13:03   \n",
       "\n",
       "          day_of_week  hour_of_day  month  quarter  \n",
       "0                   0           12     12        4  \n",
       "1                   0           12     12        4  \n",
       "2                   0           12     12        4  \n",
       "3                   0           12     12        4  \n",
       "4                   0           14     12        4  \n",
       "...               ...          ...    ...      ...  \n",
       "19569829            2           17      6        2  \n",
       "13744681            6           11     12        4  \n",
       "1238516             4           12      6        2  \n",
       "17040206            5           15      5        2  \n",
       "12105039            4           13      7        3  \n",
       "\n",
       "[19321734 rows x 14 columns]"
      ]
     },
     "execution_count": 56,
     "metadata": {},
     "output_type": "execute_result"
    }
   ],
   "source": [
    "df_ready['date_diff_post'] = df_ready['date_diff_post'].round()\n",
    "\n",
    "df_ready['date_diff_post'] = df_ready['date_diff_post'].astype(int)\n",
    "df_ready"
   ]
  },
  {
   "cell_type": "code",
   "execution_count": 57,
   "metadata": {
    "tags": []
   },
   "outputs": [],
   "source": [
    "# Поменяем все данные из df_ready по дням на прогнозные\n",
    "df_ready['date_diff_post'] = model_regr.predict(df_ready[X])"
   ]
  },
  {
   "cell_type": "markdown",
   "metadata": {
    "id": "uC-GtTXQbtN_"
   },
   "source": [
    "### Классификация: прогноз оттока"
   ]
  },
  {
   "cell_type": "code",
   "execution_count": 58,
   "metadata": {
    "id": "H3enIUtVbEJ2",
    "tags": []
   },
   "outputs": [],
   "source": [
    "train, test = train_test_split(df_ready, train_size=0.8, random_state=42, stratify=df_ready['buy_post'])"
   ]
  },
  {
   "cell_type": "code",
   "execution_count": 59,
   "metadata": {
    "id": "sU5GABJJbEMi",
    "tags": []
   },
   "outputs": [],
   "source": [
    "val, test = train_test_split(test, train_size=0.5, random_state=42, stratify=test['buy_post'])"
   ]
  },
  {
   "cell_type": "code",
   "execution_count": 60,
   "metadata": {
    "id": "nkIXm1GrcZa6",
    "tags": []
   },
   "outputs": [
    {
     "data": {
      "text/plain": [
       "Index(['customer_id', 'date_diff_post', 'buy_post', 'revenue', 'startdatetime',\n",
       "       'dish_name', 'ownareaall_sqm', 'format_name', 'loyality', 'datetime',\n",
       "       'day_of_week', 'hour_of_day', 'month', 'quarter'],\n",
       "      dtype='object')"
      ]
     },
     "execution_count": 60,
     "metadata": {},
     "output_type": "execute_result"
    }
   ],
   "source": [
    "train.columns"
   ]
  },
  {
   "cell_type": "code",
   "execution_count": 61,
   "metadata": {
    "id": "3SFUFUX3bEO6",
    "tags": []
   },
   "outputs": [],
   "source": [
    "X = ['date_diff_post', 'revenue', 'dish_name', 'ownareaall_sqm', 'format_name', 'loyality', 'day_of_week', 'hour_of_day', 'month', 'quarter'] # без целевой переменной date_diff_post\n",
    "cat_features = ['dish_name', 'format_name', 'day_of_week', 'hour_of_day', 'month', 'quarter']\n",
    "\n",
    "y = ['buy_post']"
   ]
  },
  {
   "cell_type": "code",
   "execution_count": 62,
   "metadata": {
    "id": "dbOCdgsRbERh",
    "tags": []
   },
   "outputs": [],
   "source": [
    "from catboost import CatBoostClassifier"
   ]
  },
  {
   "cell_type": "code",
   "execution_count": 63,
   "metadata": {
    "id": "FX7qaIHEbET-",
    "tags": []
   },
   "outputs": [],
   "source": [
    "params = {\n",
    "        'eval_metric': 'F1', # требуемая по заданию метрика F1\n",
    "        'verbose': 100,\n",
    "        'random_state': 42,\n",
    "        'learning_rate': 0.01,\n",
    "        'task_type': 'GPU',\n",
    "        'iterations': 500,\n",
    "        'cat_features': cat_features\n",
    "}"
   ]
  },
  {
   "cell_type": "code",
   "execution_count": 64,
   "metadata": {
    "id": "jOUKJOA3bEWY",
    "tags": []
   },
   "outputs": [],
   "source": [
    "model_clf = CatBoostClassifier(**params)"
   ]
  },
  {
   "cell_type": "code",
   "execution_count": null,
   "metadata": {
    "id": "NdeEzDkLbEY9",
    "tags": []
   },
   "outputs": [
    {
     "name": "stdout",
     "output_type": "stream",
     "text": [
      "0:\tlearn: 0.7390469\ttest: 0.7389839\tbest: 0.7389839 (0)\ttotal: 1.03s\tremaining: 8m 35s\n",
      "100:\tlearn: 0.7446052\ttest: 0.7450119\tbest: 0.7450119 (100)\ttotal: 1m 26s\tremaining: 5m 42s\n",
      "200:\tlearn: 0.7482788\ttest: 0.7485793\tbest: 0.7485793 (200)\ttotal: 2m 52s\tremaining: 4m 17s\n",
      "300:\tlearn: 0.7504331\ttest: 0.7506404\tbest: 0.7506404 (300)\ttotal: 4m 31s\tremaining: 2m 59s\n",
      "400:\tlearn: 0.7520298\ttest: 0.7521830\tbest: 0.7521830 (400)\ttotal: 6m 9s\tremaining: 1m 31s\n"
     ]
    }
   ],
   "source": [
    "model_clf.fit(train[X], train[y], eval_set=(val[X], val[y]))"
   ]
  },
  {
   "cell_type": "code",
   "execution_count": null,
   "metadata": {
    "id": "wjIPtsXUbEbW",
    "tags": []
   },
   "outputs": [],
   "source": [
    "model_clf.get_feature_importance(prettified=True)"
   ]
  },
  {
   "cell_type": "code",
   "execution_count": null,
   "metadata": {
    "id": "3e2URnFUbEd0",
    "tags": []
   },
   "outputs": [],
   "source": [
    "test['pred_buy_post'] = model_clf.predict(test[X])"
   ]
  },
  {
   "cell_type": "code",
   "execution_count": null,
   "metadata": {
    "id": "sEXcFIkcbEgV",
    "tags": []
   },
   "outputs": [],
   "source": [
    "from sklearn.metrics import f1_score, roc_auc_score, classification_report"
   ]
  },
  {
   "cell_type": "code",
   "execution_count": null,
   "metadata": {
    "id": "0NQmlvOzbEiw",
    "tags": []
   },
   "outputs": [],
   "source": [
    "f1_score(test['buy_post'], test['pred_buy_post'])"
   ]
  },
  {
   "cell_type": "code",
   "execution_count": null,
   "metadata": {
    "id": "5rwqhjm7bElP",
    "tags": []
   },
   "outputs": [],
   "source": [
    "roc_auc_score(test['buy_post'], test['pred_buy_post'])"
   ]
  },
  {
   "cell_type": "code",
   "execution_count": null,
   "metadata": {
    "id": "SFe25EDTbEnn",
    "tags": []
   },
   "outputs": [],
   "source": [
    "# вроде бы на QA что-то звучало про macro\n",
    "\n",
    "print(classification_report(test['buy_post'], test['pred_buy_post']))"
   ]
  },
  {
   "cell_type": "code",
   "execution_count": null,
   "metadata": {
    "id": "OydggW6wbEp0",
    "tags": []
   },
   "outputs": [],
   "source": [
    "from catboost.utils import get_roc_curve"
   ]
  },
  {
   "cell_type": "code",
   "execution_count": null,
   "metadata": {
    "id": "afCTJ-X7bEsa",
    "tags": []
   },
   "outputs": [],
   "source": [
    "from catboost import Pool\n",
    "\n",
    "test_data = Pool(data=test[X],\n",
    "                label=test[y],\n",
    "                cat_features=cat_features)"
   ]
  },
  {
   "cell_type": "code",
   "execution_count": null,
   "metadata": {
    "id": "89jO3FBWbEui",
    "tags": []
   },
   "outputs": [],
   "source": [
    "get_roc_curve(model_clf, test_data, plot=True);"
   ]
  },
  {
   "cell_type": "markdown",
   "metadata": {},
   "source": [
    "# Работа с тестовым датасетом"
   ]
  },
  {
   "cell_type": "code",
   "execution_count": null,
   "metadata": {
    "id": "eFHcU3P0iHsY",
    "tags": []
   },
   "outputs": [],
   "source": [
    "test_df = pd.read_parquet('hackaton2023_test.parquet')"
   ]
  },
  {
   "cell_type": "code",
   "execution_count": null,
   "metadata": {
    "id": "GPzO29a-lFv9",
    "tags": []
   },
   "outputs": [],
   "source": [
    "test_df.head()"
   ]
  },
  {
   "cell_type": "code",
   "execution_count": null,
   "metadata": {
    "id": "TnxqqBqUlPm-",
    "tags": []
   },
   "outputs": [],
   "source": [
    "len(test_df)"
   ]
  },
  {
   "cell_type": "code",
   "execution_count": null,
   "metadata": {
    "id": "D2QoRSmylUUG",
    "tags": []
   },
   "outputs": [],
   "source": [
    "test_df.drop('group_name', axis=1, inplace=True)"
   ]
  },
  {
   "cell_type": "code",
   "execution_count": null,
   "metadata": {
    "id": "JyljJqhBd8ss",
    "tags": []
   },
   "outputs": [],
   "source": [
    "#Добавить фичи в тест\n",
    "counts = test_df['customer_id'].value_counts()\n",
    "test_df[\"loyality\"] = test_df['customer_id'].apply(lambda x: counts.loc[x])"
   ]
  },
  {
   "cell_type": "code",
   "execution_count": null,
   "metadata": {},
   "outputs": [],
   "source": [
    "# Производные от даты\n",
    "test_df[\"datetime\"] = pd.to_datetime(test_df[\"startdatetime\"], format='mixed')\n",
    "test_df[\"day_of_week\"] = test_df[\"datetime\"].dt.dayofweek\n",
    "test_df[\"hour_of_day\"] = test_df[\"datetime\"].dt.hour\n",
    "test_df[\"month\"] = test_df[\"datetime\"].dt.month\n",
    "test_df[\"quarter\"] = test_df[\"datetime\"].dt.quarter"
   ]
  },
  {
   "cell_type": "code",
   "execution_count": null,
   "metadata": {},
   "outputs": [],
   "source": [
    "# Укрупняем категорию Блюда\n",
    "# Считаем количество вхождений каждой категории\n",
    "category_counts = test_df[\"dish_name\"].value_counts()\n",
    "# Заменяем редкие категории на Другое.\n",
    "threshold = category_counts.median()  # Медиана как порог отсева\n",
    "for i in range(len(category_counts)):\n",
    "    if category_counts[i] < threshold:\n",
    "        test_df[\"dish_name\"].replace(category_counts.index[i], \"Другое\", inplace=True)\n",
    "len(test_df[\"dish_name\"].value_counts())"
   ]
  },
  {
   "cell_type": "code",
   "execution_count": null,
   "metadata": {},
   "outputs": [],
   "source": [
    "test_df['ownareaall_sqm'] = test_df['ownareaall_sqm'].apply(fit_area)\n",
    "test_df['ownareaall_sqm'].value_counts()"
   ]
  },
  {
   "cell_type": "code",
   "execution_count": null,
   "metadata": {
    "tags": []
   },
   "outputs": [],
   "source": [
    "X = ['revenue', 'dish_name', 'ownareaall_sqm', 'format_name', 'loyality', 'day_of_week', 'hour_of_day', 'month', 'quarter'] # без целевой переменной date_diff_post\n",
    "cat_features = ['dish_name', 'format_name', 'day_of_week', 'hour_of_day', 'month', 'quarter']\n",
    "y = ['buy_post']"
   ]
  },
  {
   "cell_type": "code",
   "execution_count": null,
   "metadata": {
    "id": "-xwgQYsamI8b",
    "tags": []
   },
   "outputs": [],
   "source": [
    "test_df[\"date_diff_post\"] = model_regr.predict(test_df[X])\n",
    "test_df[\"date_diff_post\"] = test_df[\"date_diff_post\"].round().astype(int)"
   ]
  },
  {
   "cell_type": "code",
   "execution_count": null,
   "metadata": {
    "tags": []
   },
   "outputs": [],
   "source": [
    "test_df"
   ]
  },
  {
   "cell_type": "code",
   "execution_count": null,
   "metadata": {
    "tags": []
   },
   "outputs": [],
   "source": [
    "X = ['date_diff_post', 'revenue', 'dish_name', 'ownareaall_sqm', 'format_name', 'loyality', 'day_of_week', 'hour_of_day', 'month', 'quarter'] # без целевой переменной date_diff_post\n",
    "cat_features = ['dish_name', 'format_name', 'day_of_week', 'hour_of_day', 'month', 'quarter']\n",
    "\n",
    "\n",
    "y = ['buy_post']"
   ]
  },
  {
   "cell_type": "code",
   "execution_count": null,
   "metadata": {
    "id": "g2W4t-gieTVM",
    "tags": []
   },
   "outputs": [],
   "source": [
    "test_df[\"buy_post\"] = model_clf.predict(test_df[X])"
   ]
  },
  {
   "cell_type": "code",
   "execution_count": null,
   "metadata": {
    "colab": {
     "base_uri": "https://localhost:8080/",
     "height": 211
    },
    "id": "07aVgPcDCzjH",
    "outputId": "9882543e-546d-4d6b-ff63-b77d68e0e262",
    "tags": []
   },
   "outputs": [],
   "source": [
    "final = test_df\n",
    "final[\"datetime\"] = pd.to_datetime(test_df[\"startdatetime\"], format='mixed')\n",
    "final = final.sort_values(by='datetime', ascending=False).groupby('customer_id').head(1)\n",
    "#final = final.loc[final.groupby('customer_id')['datetime'].transform(max) == final['datetime']]\n",
    "#final = final.sort_values(by='datetime', ascending=True)\n",
    "#final = df.groupby('customer_id').head(1)\n",
    "\n",
    "#final = test_df.loc[test_df.groupby('customer_id')['startdatetime'].transform(max) == test_df['startdatetime']]"
   ]
  },
  {
   "cell_type": "code",
   "execution_count": null,
   "metadata": {
    "tags": []
   },
   "outputs": [],
   "source": []
  },
  {
   "cell_type": "code",
   "execution_count": null,
   "metadata": {
    "tags": []
   },
   "outputs": [],
   "source": [
    "final['customer_id'].nunique()"
   ]
  },
  {
   "cell_type": "code",
   "execution_count": null,
   "metadata": {
    "id": "rdLPbgU_edRM",
    "tags": []
   },
   "outputs": [],
   "source": [
    "# Выгружаем в файл\n",
    "submission = final[['customer_id','date_diff_post','buy_post']]\n",
    "submission.to_csv('submission05.csv', sep=\";\")"
   ]
  }
 ],
 "metadata": {
  "accelerator": "GPU",
  "colab": {
   "gpuType": "T4",
   "provenance": []
  },
  "kernelspec": {
   "display_name": "Python 3 (ipykernel)",
   "language": "python",
   "name": "python3"
  },
  "language_info": {
   "codemirror_mode": {
    "name": "ipython",
    "version": 3
   },
   "file_extension": ".py",
   "mimetype": "text/x-python",
   "name": "python",
   "nbconvert_exporter": "python",
   "pygments_lexer": "ipython3",
   "version": "3.11.5"
  }
 },
 "nbformat": 4,
 "nbformat_minor": 4
}
